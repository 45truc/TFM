{
 "cells": [
  {
   "cell_type": "code",
   "execution_count": 1,
   "id": "e816ee6d-a273-4c07-b38e-3f90bcaad51f",
   "metadata": {},
   "outputs": [],
   "source": [
    "from utils import *\n",
    "from sklearn.metrics import accuracy_score, precision_score, recall_score, f1_score\n",
    "from torch.utils.data import DataLoader, TensorDataset, Subset\n",
    "from sklearn.model_selection import KFold, train_test_split\n",
    "from tqdm import tqdm\n",
    "import scipy.signal as spsg\n",
    "# Load the .mat file\n",
    "'''\n",
    " data_path = f\"E:\\data/dataClean-ICA3-{num}-T1.mat\"\n",
    " num = 25,...,35\n",
    "'''\n",
    "data = loadmat('E:\\data/dataClean-ICA3-25-T1.mat')\n",
    "sample, blocks = get_data_subject(data, sub=0, selection_critirium=None)\n",
    "sha = sample.shape\n",
    "re_sample = np.reshape(sample, (sha[-1]*sha[2],sha[0],sha[1]))\n",
    "re_sample = torch.Tensor(re_sample)"
   ]
  },
  {
   "cell_type": "code",
   "execution_count": null,
   "id": "ac0e273e-c615-447a-8e34-8ac24aa1b99c",
   "metadata": {},
   "outputs": [],
   "source": [
    "def bandpass_filtering(lfp, frq=1000, lp=250., hp=500.):\n",
    "    b,a = spsg.iirfilter(3, [lp/frq,hp/frq], btype='bandpass', ftype='butter')\n",
    "    filtered = np.empty(lfp.shape)\n",
    "    for i, d in enumerate(lfp):\n",
    "        print(i, end=\" \")\n",
    "        filtered[i] = spsg.filtfilt(b, a, d)\n",
    "    return filtered"
   ]
  }
 ],
 "metadata": {
  "kernelspec": {
   "display_name": "Python 3 (ipykernel)",
   "language": "python",
   "name": "python3"
  },
  "language_info": {
   "codemirror_mode": {
    "name": "ipython",
    "version": 3
   },
   "file_extension": ".py",
   "mimetype": "text/x-python",
   "name": "python",
   "nbconvert_exporter": "python",
   "pygments_lexer": "ipython3",
   "version": "3.8.18"
  }
 },
 "nbformat": 4,
 "nbformat_minor": 5
}
